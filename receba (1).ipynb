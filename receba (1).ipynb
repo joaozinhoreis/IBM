{
  "cells": [
    {
      "cell_type": "markdown",
      "metadata": {
        "collapsed": true,
        "id": "3ahTXblohWjO"
      },
      "source": [
        "# My Jupyter Notebook on IBM Watson Studio"
      ]
    },
    {
      "cell_type": "markdown",
      "metadata": {
        "id": "BggO3PuwhWjP"
      },
      "source": [
        "<b> Joao Mendes </b> \n",
        "\n",
        "Student\n",
        " "
      ]
    },
    {
      "cell_type": "markdown",
      "metadata": {
        "id": "jR6pX6GdhWjQ"
      },
      "source": [
        "_I am  interested in data science because it allows me to understand how data is collected, processed, and analyzed to gain insights and make predictions about various phenomena. ._"
      ]
    },
    {
      "cell_type": "markdown",
      "metadata": {
        "id": "d1SX4-uuhWjQ"
      },
      "source": [
        "### When you run this code, it will ask the user to enter their name, and then it will print a greeting message that includes their name:"
      ]
    },
    {
      "cell_type": "code",
      "execution_count": 1,
      "metadata": {
        "scrolled": true,
        "colab": {
          "base_uri": "https://localhost:8080/"
        },
        "id": "bpGPrSvBhWjQ",
        "outputId": "8eb7d202-e994-4e00-fa20-ab68d018eded"
      },
      "outputs": [
        {
          "output_type": "stream",
          "name": "stdout",
          "text": [
            "What's your name? joao\n",
            "Hello, joao! Nice to meet you.\n"
          ]
        }
      ],
      "source": [
        "name = input(\"What's your name? \")\n",
        "print(\"Hello, \" + name + \"! Nice to meet you.\")\n"
      ]
    },
    {
      "cell_type": "markdown",
      "source": [
        "<b>My Favorite movies</b>\n",
        "\n",
        "Here are my top 3 favorite movies:\n",
        "\n",
        "1. The Shawshank Redemption\n",
        "2. The Godfather\n",
        "3. The Dark Knight\n",
        "\n",
        "Here's a link to [IMDB](https://www.imdb.com/) where you can find more information about these movies.\n",
        "\n",
        "<blockquote> \"I believe whatever doesn't kill you simply makes you... stranger.\" - The Joker"
      ],
      "metadata": {
        "id": "o_y7rdCylids"
      }
    },
    {
      "cell_type": "code",
      "execution_count": null,
      "metadata": {
        "id": "Nd4_xUIXhWjS"
      },
      "outputs": [],
      "source": []
    }
  ],
  "metadata": {
    "kernelspec": {
      "display_name": "Python 3.6",
      "language": "python",
      "name": "python3"
    },
    "language_info": {
      "codemirror_mode": {
        "name": "ipython",
        "version": 3
      },
      "file_extension": ".py",
      "mimetype": "text/x-python",
      "name": "python",
      "nbconvert_exporter": "python",
      "pygments_lexer": "ipython3",
      "version": "3.6.9"
    },
    "colab": {
      "provenance": []
    }
  },
  "nbformat": 4,
  "nbformat_minor": 0
}
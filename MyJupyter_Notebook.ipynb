{
  "cells": [
    {
      "cell_type": "markdown",
      "metadata": {
        "id": "vArcjDdKqTzg"
      },
      "source": [
        "<center>\n",
        "    <img src=\"https://cf-courses-data.s3.us.cloud-object-storage.appdomain.cloud/IBMDeveloperSkillsNetwork-DS0105EN-SkillsNetwork/labs/Module2/images/SN_web_lightmode.png\" width=\"300\" alt=\"cognitiveclass.ai logo\">\n",
        "</center>\n"
      ]
    },
    {
      "cell_type": "markdown",
      "metadata": {
        "id": "VOevNhOvqTzi"
      },
      "source": [
        "#### Add your code below following the instructions given in the course\n"
      ]
    },
    {
      "cell_type": "markdown",
      "source": [
        "#My assignment"
      ],
      "metadata": {
        "id": "g6uzHASjrEZD"
      }
    },
    {
      "cell_type": "markdown",
      "source": [
        "###In this notebook, my thoughts are summarized"
      ],
      "metadata": {
        "id": "TlZfgz71rZ-V"
      }
    },
    {
      "cell_type": "markdown",
      "source": [
        "**Objectives:**\n",
        "list popular languages- R - SQl"
      ],
      "metadata": {
        "id": "Hfv8CeABviuW"
      }
    },
    {
      "cell_type": "markdown",
      "source": [
        "Here are  3 data science languages:\n",
        "\n",
        "1. Python\n",
        "2. R\n",
        "3. Julia"
      ],
      "metadata": {
        "id": "-_IEkGqXsQpq"
      }
    },
    {
      "cell_type": "markdown",
      "source": [
        "Here are  3 data science libraries:\n",
        "\n",
        "1. Pandas\n",
        "2. Tensorflow\n",
        "3. Keras"
      ],
      "metadata": {
        "id": "8M58cit9syB5"
      }
    },
    {
      "cell_type": "markdown",
      "source": [
        "|Data Science Tools|\n",
        "|-----------|\n",
        "|Rstudio|\n",
        "|Jupyter Notebook|\n",
        "|IBM watson|"
      ],
      "metadata": {
        "id": "PbQJn8-Mtr2L"
      }
    },
    {
      "cell_type": "markdown",
      "source": [
        "basic arithmetic"
      ],
      "metadata": {
        "id": "NE-3q5rYuUKZ"
      }
    },
    {
      "cell_type": "code",
      "execution_count": 1,
      "metadata": {
        "colab": {
          "base_uri": "https://localhost:8080/"
        },
        "id": "tTPK_Kj7qTzi",
        "outputId": "e95dbac6-d4ee-4ab4-b077-d239de0d4454"
      },
      "outputs": [
        {
          "output_type": "execute_result",
          "data": {
            "text/plain": [
              "56"
            ]
          },
          "metadata": {},
          "execution_count": 1
        }
      ],
      "source": [
        "(5 + 23) * 2"
      ]
    },
    {
      "cell_type": "code",
      "source": [
        "(3 * 4) + 5"
      ],
      "metadata": {
        "colab": {
          "base_uri": "https://localhost:8080/"
        },
        "id": "zE8qOf4Muebd",
        "outputId": "3c87d98f-4cfa-476a-b42c-cb21228eb750"
      },
      "execution_count": 2,
      "outputs": [
        {
          "output_type": "execute_result",
          "data": {
            "text/plain": [
              "17"
            ]
          },
          "metadata": {},
          "execution_count": 2
        }
      ]
    },
    {
      "cell_type": "markdown",
      "source": [
        "This will convert 200 minutes to hours by diving by 60"
      ],
      "metadata": {
        "id": "amXyZlcbuxcF"
      }
    },
    {
      "cell_type": "code",
      "source": [
        "def convert_minutes_to_hours(minutes):\n",
        "    hours = minutes / 60.0\n",
        "    return hours\n",
        "convert_minutes_to_hours(200)"
      ],
      "metadata": {
        "colab": {
          "base_uri": "https://localhost:8080/"
        },
        "id": "5aYJFksrup0Z",
        "outputId": "7ddc946c-b3f0-4748-ba98-456d0ae6d26d"
      },
      "execution_count": 3,
      "outputs": [
        {
          "output_type": "execute_result",
          "data": {
            "text/plain": [
              "3.3333333333333335"
            ]
          },
          "metadata": {},
          "execution_count": 3
        }
      ]
    },
    {
      "cell_type": "markdown",
      "source": [
        "Author: Joao Mendes"
      ],
      "metadata": {
        "id": "1PN-4-G-wYV8"
      }
    },
    {
      "cell_type": "code",
      "source": [],
      "metadata": {
        "id": "rU0XtjNNvW2x"
      },
      "execution_count": null,
      "outputs": []
    }
  ],
  "metadata": {
    "kernelspec": {
      "display_name": "Python",
      "language": "python",
      "name": "conda-env-python-py"
    },
    "language_info": {
      "name": ""
    },
    "colab": {
      "provenance": []
    }
  },
  "nbformat": 4,
  "nbformat_minor": 0
}